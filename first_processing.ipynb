{
  "cells": [
    {
      "cell_type": "code",
      "execution_count": 2,
      "metadata": {
        "colab": {
          "base_uri": "https://localhost:8080/",
          "height": 399
        },
        "id": "WKDUFvZI1QHd",
        "outputId": "44a9eb45-850d-4e81-ec81-e0a6671b2bca"
      },
      "outputs": [
        {
          "name": "stderr",
          "output_type": "stream",
          "text": [
            "c:\\Users\\RAR9\\AppData\\Local\\anaconda3\\Lib\\site-packages\\pandas\\core\\arrays\\masked.py:60: UserWarning: Pandas requires version '1.3.6' or newer of 'bottleneck' (version '1.3.5' currently installed).\n",
            "  from pandas.core import (\n",
            "[nltk_data] Downloading package stopwords to\n",
            "[nltk_data]     C:\\Users\\RAR9\\AppData\\Roaming\\nltk_data...\n",
            "[nltk_data]   Package stopwords is already up-to-date!\n"
          ]
        },
        {
          "data": {
            "text/plain": [
              "True"
            ]
          },
          "execution_count": 2,
          "metadata": {},
          "output_type": "execute_result"
        }
      ],
      "source": [
        "import pandas as pd\n",
        "from tqdm.auto import tqdm\n",
        "from skimpy import skim\n",
        "import matplotlib.pyplot as plt\n",
        "import plotly.express as px\n",
        "import re\n",
        "import emoji\n",
        "import nltk\n",
        "from nltk.corpus import stopwords\n",
        "from nltk.stem import SnowballStemmer\n",
        "from concurrent.futures import ThreadPoolExecutor\n",
        "import math\n",
        "import plotly.graph_objects as go\n",
        "from plotly.subplots import make_subplots\n",
        "import seaborn as sns\n",
        "tqdm.pandas()\n",
        "nltk.download('stopwords')\n",
        "\n"
      ]
    },
    {
      "cell_type": "code",
      "execution_count": 5,
      "metadata": {
        "colab": {
          "base_uri": "https://localhost:8080/"
        },
        "id": "3yC648vq2OQI",
        "outputId": "b40e22aa-f4d7-45ba-f2b7-d77445644596"
      },
      "outputs": [
        {
          "name": "stderr",
          "output_type": "stream",
          "text": [
            "C:\\Users\\RAR9\\AppData\\Local\\Temp\\ipykernel_29868\\66759690.py:1: DtypeWarning: Columns (9) have mixed types. Specify dtype option on import or set low_memory=False.\n",
            "  data = pd.read_csv('complaints.csv')\n"
          ]
        }
      ],
      "source": [
        "data = pd.read_csv('complaints.csv')"
      ]
    },
    {
      "cell_type": "markdown",
      "metadata": {},
      "source": [
        "## 1) Premiere vision des données"
      ]
    },
    {
      "cell_type": "code",
      "execution_count": 26,
      "metadata": {
        "colab": {
          "base_uri": "https://localhost:8080/",
          "height": 595
        },
        "id": "m4BM6qfH47Gk",
        "outputId": "79ce4944-1859-4421-b987-6fbf0c864099"
      },
      "outputs": [
        {
          "data": {
            "text/html": [
              "<pre style=\"white-space:pre;overflow-x:auto;line-height:normal;font-family:Menlo,'DejaVu Sans Mono',consolas,'Courier New',monospace\">╭──────────────────────────────────────────────── skimpy summary ─────────────────────────────────────────────────╮\n",
              "│ <span style=\"font-style: italic\">         Data Summary          </span> <span style=\"font-style: italic\">      Data Types       </span>                                                         │\n",
              "│ ┏━━━━━━━━━━━━━━━━━━━┳━━━━━━━━━┓ ┏━━━━━━━━━━━━━┳━━━━━━━┓                                                         │\n",
              "│ ┃<span style=\"color: #008080; text-decoration-color: #008080; font-weight: bold\"> dataframe         </span>┃<span style=\"color: #008080; text-decoration-color: #008080; font-weight: bold\"> Values  </span>┃ ┃<span style=\"color: #008080; text-decoration-color: #008080; font-weight: bold\"> Column Type </span>┃<span style=\"color: #008080; text-decoration-color: #008080; font-weight: bold\"> Count </span>┃                                                         │\n",
              "│ ┡━━━━━━━━━━━━━━━━━━━╇━━━━━━━━━┩ ┡━━━━━━━━━━━━━╇━━━━━━━┩                                                         │\n",
              "│ │ Number of rows    │ 2396033 │ │ string      │ 16    │                                                         │\n",
              "│ │ Number of columns │ 17      │ │ int64       │ 1     │                                                         │\n",
              "│ └───────────────────┴─────────┘ └─────────────┴───────┘                                                         │\n",
              "│ <span style=\"font-style: italic\">                                                    number                                                    </span>  │\n",
              "│ ┏━━━━━━━━━━━━━━━━┳━━━━━┳━━━━━━━┳━━━━━━━━━━┳━━━━━━━━━━┳━━━━━┳━━━━━━━━━━┳━━━━━━━━━┳━━━━━━━━━┳━━━━━━━━━┳━━━━━━━━┓  │\n",
              "│ ┃<span style=\"font-weight: bold\"> column_name    </span>┃<span style=\"font-weight: bold\"> NA  </span>┃<span style=\"font-weight: bold\"> NA %  </span>┃<span style=\"font-weight: bold\"> mean     </span>┃<span style=\"font-weight: bold\"> sd       </span>┃<span style=\"font-weight: bold\"> p0  </span>┃<span style=\"font-weight: bold\"> p25      </span>┃<span style=\"font-weight: bold\"> p50     </span>┃<span style=\"font-weight: bold\"> p75     </span>┃<span style=\"font-weight: bold\"> p100    </span>┃<span style=\"font-weight: bold\"> hist   </span>┃  │\n",
              "│ ┡━━━━━━━━━━━━━━━━╇━━━━━╇━━━━━━━╇━━━━━━━━━━╇━━━━━━━━━━╇━━━━━╇━━━━━━━━━━╇━━━━━━━━━╇━━━━━━━━━╇━━━━━━━━━╇━━━━━━━━┩  │\n",
              "│ │ <span style=\"color: #af87ff; text-decoration-color: #af87ff\">Complaint ID  </span> │ <span style=\"color: #008080; text-decoration-color: #008080\">  0</span> │ <span style=\"color: #008080; text-decoration-color: #008080\">    0</span> │ <span style=\"color: #008080; text-decoration-color: #008080\"> 2900000</span> │ <span style=\"color: #008080; text-decoration-color: #008080\"> 1300000</span> │ <span style=\"color: #008080; text-decoration-color: #008080\">  1</span> │ <span style=\"color: #008080; text-decoration-color: #008080\"> 2000000</span> │ <span style=\"color: #008080; text-decoration-color: #008080\">3100000</span> │ <span style=\"color: #008080; text-decoration-color: #008080\">3900000</span> │ <span style=\"color: #008080; text-decoration-color: #008080\">5000000</span> │ <span style=\"color: #008000; text-decoration-color: #008000\">▃▃▃▇▇▅</span> │  │\n",
              "│ └────────────────┴─────┴───────┴──────────┴──────────┴─────┴──────────┴─────────┴─────────┴─────────┴────────┘  │\n",
              "│ <span style=\"font-style: italic\">                                                    string                                                    </span>  │\n",
              "│ ┏━━━━━━━━━━━━━━━━━━━━━━━━━━━━━━━━━━━┳━━━━━━━━━━━━━━━┳━━━━━━━━━━━┳━━━━━━━━━━━━━━━━━━━━━━━━┳━━━━━━━━━━━━━━━━━━━┓  │\n",
              "│ ┃<span style=\"font-weight: bold\"> column_name                       </span>┃<span style=\"font-weight: bold\"> NA            </span>┃<span style=\"font-weight: bold\"> NA %      </span>┃<span style=\"font-weight: bold\"> words per row          </span>┃<span style=\"font-weight: bold\"> total words       </span>┃  │\n",
              "│ ┡━━━━━━━━━━━━━━━━━━━━━━━━━━━━━━━━━━━╇━━━━━━━━━━━━━━━╇━━━━━━━━━━━╇━━━━━━━━━━━━━━━━━━━━━━━━╇━━━━━━━━━━━━━━━━━━━┩  │\n",
              "│ │ <span style=\"color: #af87ff; text-decoration-color: #af87ff\">Date received                    </span> │ <span style=\"color: #008080; text-decoration-color: #008080\">            0</span> │ <span style=\"color: #008080; text-decoration-color: #008080\">        0</span> │ <span style=\"color: #008080; text-decoration-color: #008080\">                     1</span> │ <span style=\"color: #008080; text-decoration-color: #008080\">          2396033</span> │  │\n",
              "│ │ <span style=\"color: #af87ff; text-decoration-color: #af87ff\">Product                          </span> │ <span style=\"color: #008080; text-decoration-color: #008080\">            0</span> │ <span style=\"color: #008080; text-decoration-color: #008080\">        0</span> │ <span style=\"color: #008080; text-decoration-color: #008080\">                   5.3</span> │ <span style=\"color: #008080; text-decoration-color: #008080\">         12804193</span> │  │\n",
              "│ │ <span style=\"color: #af87ff; text-decoration-color: #af87ff\">Sub-product                      </span> │ <span style=\"color: #008080; text-decoration-color: #008080\">       235164</span> │ <span style=\"color: #008080; text-decoration-color: #008080\">     9.81</span> │ <span style=\"color: #008080; text-decoration-color: #008080\">                   2.4</span> │ <span style=\"color: #008080; text-decoration-color: #008080\">          5700319</span> │  │\n",
              "│ │ <span style=\"color: #af87ff; text-decoration-color: #af87ff\">Issue                            </span> │ <span style=\"color: #008080; text-decoration-color: #008080\">            0</span> │ <span style=\"color: #008080; text-decoration-color: #008080\">        0</span> │ <span style=\"color: #008080; text-decoration-color: #008080\">                   5.4</span> │ <span style=\"color: #008080; text-decoration-color: #008080\">         12924404</span> │  │\n",
              "│ │ <span style=\"color: #af87ff; text-decoration-color: #af87ff\">Sub-issue                        </span> │ <span style=\"color: #008080; text-decoration-color: #008080\">       641100</span> │ <span style=\"color: #008080; text-decoration-color: #008080\">    26.76</span> │ <span style=\"color: #008080; text-decoration-color: #008080\">                   4.2</span> │ <span style=\"color: #008080; text-decoration-color: #008080\">         10034123</span> │  │\n",
              "│ │ <span style=\"color: #af87ff; text-decoration-color: #af87ff\">Consumer complaint narrative     </span> │ <span style=\"color: #008080; text-decoration-color: #008080\">      1560823</span> │ <span style=\"color: #008080; text-decoration-color: #008080\">    65.14</span> │ <span style=\"color: #008080; text-decoration-color: #008080\">                    67</span> │ <span style=\"color: #008080; text-decoration-color: #008080\">        159705177</span> │  │\n",
              "│ │ <span style=\"color: #af87ff; text-decoration-color: #af87ff\">Company public response          </span> │ <span style=\"color: #008080; text-decoration-color: #008080\">      1414645</span> │ <span style=\"color: #008080; text-decoration-color: #008080\">    59.04</span> │ <span style=\"color: #008080; text-decoration-color: #008080\">                   6.4</span> │ <span style=\"color: #008080; text-decoration-color: #008080\">         15397625</span> │  │\n",
              "│ │ <span style=\"color: #af87ff; text-decoration-color: #af87ff\">Company                          </span> │ <span style=\"color: #008080; text-decoration-color: #008080\">            0</span> │ <span style=\"color: #008080; text-decoration-color: #008080\">        0</span> │ <span style=\"color: #008080; text-decoration-color: #008080\">                   3.4</span> │ <span style=\"color: #008080; text-decoration-color: #008080\">          8101943</span> │  │\n",
              "│ │ <span style=\"color: #af87ff; text-decoration-color: #af87ff\">State                            </span> │ <span style=\"color: #008080; text-decoration-color: #008080\">        38502</span> │ <span style=\"color: #008080; text-decoration-color: #008080\">     1.61</span> │ <span style=\"color: #008080; text-decoration-color: #008080\">                  0.98</span> │ <span style=\"color: #008080; text-decoration-color: #008080\">          2358331</span> │  │\n",
              "│ │ <span style=\"color: #af87ff; text-decoration-color: #af87ff\">Tags                             </span> │ <span style=\"color: #008080; text-decoration-color: #008080\">      2105561</span> │ <span style=\"color: #008080; text-decoration-color: #008080\">    87.88</span> │ <span style=\"color: #008080; text-decoration-color: #008080\">                  0.19</span> │ <span style=\"color: #008080; text-decoration-color: #008080\">           450415</span> │  │\n",
              "│ │ <span style=\"color: #af87ff; text-decoration-color: #af87ff\">Consumer consent provided?       </span> │ <span style=\"color: #008080; text-decoration-color: #008080\">       734001</span> │ <span style=\"color: #008080; text-decoration-color: #008080\">    30.63</span> │ <span style=\"color: #008080; text-decoration-color: #008080\">                   1.7</span> │ <span style=\"color: #008080; text-decoration-color: #008080\">          4019264</span> │  │\n",
              "│ │ <span style=\"color: #af87ff; text-decoration-color: #af87ff\">Submitted via                    </span> │ <span style=\"color: #008080; text-decoration-color: #008080\">            0</span> │ <span style=\"color: #008080; text-decoration-color: #008080\">        0</span> │ <span style=\"color: #008080; text-decoration-color: #008080\">                     1</span> │ <span style=\"color: #008080; text-decoration-color: #008080\">          2477660</span> │  │\n",
              "│ │ <span style=\"color: #af87ff; text-decoration-color: #af87ff\">Date sent to company             </span> │ <span style=\"color: #008080; text-decoration-color: #008080\">            0</span> │ <span style=\"color: #008080; text-decoration-color: #008080\">        0</span> │ <span style=\"color: #008080; text-decoration-color: #008080\">                     1</span> │ <span style=\"color: #008080; text-decoration-color: #008080\">          2396033</span> │  │\n",
              "│ │ <span style=\"color: #af87ff; text-decoration-color: #af87ff\">Company response to consumer     </span> │ <span style=\"color: #008080; text-decoration-color: #008080\">            3</span> │ <span style=\"color: #008080; text-decoration-color: #008080\">        0</span> │ <span style=\"color: #008080; text-decoration-color: #008080\">                   3.1</span> │ <span style=\"color: #008080; text-decoration-color: #008080\">          7483649</span> │  │\n",
              "│ │ <span style=\"color: #af87ff; text-decoration-color: #af87ff\">Timely response?                 </span> │ <span style=\"color: #008080; text-decoration-color: #008080\">            0</span> │ <span style=\"color: #008080; text-decoration-color: #008080\">        0</span> │ <span style=\"color: #008080; text-decoration-color: #008080\">                     1</span> │ <span style=\"color: #008080; text-decoration-color: #008080\">          2396033</span> │  │\n",
              "│ │ <span style=\"color: #af87ff; text-decoration-color: #af87ff\">Consumer disputed?               </span> │ <span style=\"color: #008080; text-decoration-color: #008080\">      1627574</span> │ <span style=\"color: #008080; text-decoration-color: #008080\">    67.93</span> │ <span style=\"color: #008080; text-decoration-color: #008080\">                  0.32</span> │ <span style=\"color: #008080; text-decoration-color: #008080\">           768459</span> │  │\n",
              "│ └───────────────────────────────────┴───────────────┴───────────┴────────────────────────┴───────────────────┘  │\n",
              "╰────────────────────────────────────────────────────── End ──────────────────────────────────────────────────────╯\n",
              "</pre>\n"
            ],
            "text/plain": [
              "╭──────────────────────────────────────────────── skimpy summary ─────────────────────────────────────────────────╮\n",
              "│ \u001b[3m         Data Summary          \u001b[0m \u001b[3m      Data Types       \u001b[0m                                                         │\n",
              "│ ┏━━━━━━━━━━━━━━━━━━━┳━━━━━━━━━┓ ┏━━━━━━━━━━━━━┳━━━━━━━┓                                                         │\n",
              "│ ┃\u001b[1;36m \u001b[0m\u001b[1;36mdataframe        \u001b[0m\u001b[1;36m \u001b[0m┃\u001b[1;36m \u001b[0m\u001b[1;36mValues \u001b[0m\u001b[1;36m \u001b[0m┃ ┃\u001b[1;36m \u001b[0m\u001b[1;36mColumn Type\u001b[0m\u001b[1;36m \u001b[0m┃\u001b[1;36m \u001b[0m\u001b[1;36mCount\u001b[0m\u001b[1;36m \u001b[0m┃                                                         │\n",
              "│ ┡━━━━━━━━━━━━━━━━━━━╇━━━━━━━━━┩ ┡━━━━━━━━━━━━━╇━━━━━━━┩                                                         │\n",
              "│ │ Number of rows    │ 2396033 │ │ string      │ 16    │                                                         │\n",
              "│ │ Number of columns │ 17      │ │ int64       │ 1     │                                                         │\n",
              "│ └───────────────────┴─────────┘ └─────────────┴───────┘                                                         │\n",
              "│ \u001b[3m                                                    number                                                    \u001b[0m  │\n",
              "│ ┏━━━━━━━━━━━━━━━━┳━━━━━┳━━━━━━━┳━━━━━━━━━━┳━━━━━━━━━━┳━━━━━┳━━━━━━━━━━┳━━━━━━━━━┳━━━━━━━━━┳━━━━━━━━━┳━━━━━━━━┓  │\n",
              "│ ┃\u001b[1m \u001b[0m\u001b[1mcolumn_name   \u001b[0m\u001b[1m \u001b[0m┃\u001b[1m \u001b[0m\u001b[1mNA \u001b[0m\u001b[1m \u001b[0m┃\u001b[1m \u001b[0m\u001b[1mNA % \u001b[0m\u001b[1m \u001b[0m┃\u001b[1m \u001b[0m\u001b[1mmean    \u001b[0m\u001b[1m \u001b[0m┃\u001b[1m \u001b[0m\u001b[1msd      \u001b[0m\u001b[1m \u001b[0m┃\u001b[1m \u001b[0m\u001b[1mp0 \u001b[0m\u001b[1m \u001b[0m┃\u001b[1m \u001b[0m\u001b[1mp25     \u001b[0m\u001b[1m \u001b[0m┃\u001b[1m \u001b[0m\u001b[1mp50    \u001b[0m\u001b[1m \u001b[0m┃\u001b[1m \u001b[0m\u001b[1mp75    \u001b[0m\u001b[1m \u001b[0m┃\u001b[1m \u001b[0m\u001b[1mp100   \u001b[0m\u001b[1m \u001b[0m┃\u001b[1m \u001b[0m\u001b[1mhist  \u001b[0m\u001b[1m \u001b[0m┃  │\n",
              "│ ┡━━━━━━━━━━━━━━━━╇━━━━━╇━━━━━━━╇━━━━━━━━━━╇━━━━━━━━━━╇━━━━━╇━━━━━━━━━━╇━━━━━━━━━╇━━━━━━━━━╇━━━━━━━━━╇━━━━━━━━┩  │\n",
              "│ │ \u001b[38;5;141mComplaint ID  \u001b[0m │ \u001b[36m  0\u001b[0m │ \u001b[36m    0\u001b[0m │ \u001b[36m 2900000\u001b[0m │ \u001b[36m 1300000\u001b[0m │ \u001b[36m  1\u001b[0m │ \u001b[36m 2000000\u001b[0m │ \u001b[36m3100000\u001b[0m │ \u001b[36m3900000\u001b[0m │ \u001b[36m5000000\u001b[0m │ \u001b[32m▃▃▃▇▇▅\u001b[0m │  │\n",
              "│ └────────────────┴─────┴───────┴──────────┴──────────┴─────┴──────────┴─────────┴─────────┴─────────┴────────┘  │\n",
              "│ \u001b[3m                                                    string                                                    \u001b[0m  │\n",
              "│ ┏━━━━━━━━━━━━━━━━━━━━━━━━━━━━━━━━━━━┳━━━━━━━━━━━━━━━┳━━━━━━━━━━━┳━━━━━━━━━━━━━━━━━━━━━━━━┳━━━━━━━━━━━━━━━━━━━┓  │\n",
              "│ ┃\u001b[1m \u001b[0m\u001b[1mcolumn_name                      \u001b[0m\u001b[1m \u001b[0m┃\u001b[1m \u001b[0m\u001b[1mNA           \u001b[0m\u001b[1m \u001b[0m┃\u001b[1m \u001b[0m\u001b[1mNA %     \u001b[0m\u001b[1m \u001b[0m┃\u001b[1m \u001b[0m\u001b[1mwords per row         \u001b[0m\u001b[1m \u001b[0m┃\u001b[1m \u001b[0m\u001b[1mtotal words      \u001b[0m\u001b[1m \u001b[0m┃  │\n",
              "│ ┡━━━━━━━━━━━━━━━━━━━━━━━━━━━━━━━━━━━╇━━━━━━━━━━━━━━━╇━━━━━━━━━━━╇━━━━━━━━━━━━━━━━━━━━━━━━╇━━━━━━━━━━━━━━━━━━━┩  │\n",
              "│ │ \u001b[38;5;141mDate received                    \u001b[0m │ \u001b[36m            0\u001b[0m │ \u001b[36m        0\u001b[0m │ \u001b[36m                     1\u001b[0m │ \u001b[36m          2396033\u001b[0m │  │\n",
              "│ │ \u001b[38;5;141mProduct                          \u001b[0m │ \u001b[36m            0\u001b[0m │ \u001b[36m        0\u001b[0m │ \u001b[36m                   5.3\u001b[0m │ \u001b[36m         12804193\u001b[0m │  │\n",
              "│ │ \u001b[38;5;141mSub-product                      \u001b[0m │ \u001b[36m       235164\u001b[0m │ \u001b[36m     9.81\u001b[0m │ \u001b[36m                   2.4\u001b[0m │ \u001b[36m          5700319\u001b[0m │  │\n",
              "│ │ \u001b[38;5;141mIssue                            \u001b[0m │ \u001b[36m            0\u001b[0m │ \u001b[36m        0\u001b[0m │ \u001b[36m                   5.4\u001b[0m │ \u001b[36m         12924404\u001b[0m │  │\n",
              "│ │ \u001b[38;5;141mSub-issue                        \u001b[0m │ \u001b[36m       641100\u001b[0m │ \u001b[36m    26.76\u001b[0m │ \u001b[36m                   4.2\u001b[0m │ \u001b[36m         10034123\u001b[0m │  │\n",
              "│ │ \u001b[38;5;141mConsumer complaint narrative     \u001b[0m │ \u001b[36m      1560823\u001b[0m │ \u001b[36m    65.14\u001b[0m │ \u001b[36m                    67\u001b[0m │ \u001b[36m        159705177\u001b[0m │  │\n",
              "│ │ \u001b[38;5;141mCompany public response          \u001b[0m │ \u001b[36m      1414645\u001b[0m │ \u001b[36m    59.04\u001b[0m │ \u001b[36m                   6.4\u001b[0m │ \u001b[36m         15397625\u001b[0m │  │\n",
              "│ │ \u001b[38;5;141mCompany                          \u001b[0m │ \u001b[36m            0\u001b[0m │ \u001b[36m        0\u001b[0m │ \u001b[36m                   3.4\u001b[0m │ \u001b[36m          8101943\u001b[0m │  │\n",
              "│ │ \u001b[38;5;141mState                            \u001b[0m │ \u001b[36m        38502\u001b[0m │ \u001b[36m     1.61\u001b[0m │ \u001b[36m                  0.98\u001b[0m │ \u001b[36m          2358331\u001b[0m │  │\n",
              "│ │ \u001b[38;5;141mTags                             \u001b[0m │ \u001b[36m      2105561\u001b[0m │ \u001b[36m    87.88\u001b[0m │ \u001b[36m                  0.19\u001b[0m │ \u001b[36m           450415\u001b[0m │  │\n",
              "│ │ \u001b[38;5;141mConsumer consent provided?       \u001b[0m │ \u001b[36m       734001\u001b[0m │ \u001b[36m    30.63\u001b[0m │ \u001b[36m                   1.7\u001b[0m │ \u001b[36m          4019264\u001b[0m │  │\n",
              "│ │ \u001b[38;5;141mSubmitted via                    \u001b[0m │ \u001b[36m            0\u001b[0m │ \u001b[36m        0\u001b[0m │ \u001b[36m                     1\u001b[0m │ \u001b[36m          2477660\u001b[0m │  │\n",
              "│ │ \u001b[38;5;141mDate sent to company             \u001b[0m │ \u001b[36m            0\u001b[0m │ \u001b[36m        0\u001b[0m │ \u001b[36m                     1\u001b[0m │ \u001b[36m          2396033\u001b[0m │  │\n",
              "│ │ \u001b[38;5;141mCompany response to consumer     \u001b[0m │ \u001b[36m            3\u001b[0m │ \u001b[36m        0\u001b[0m │ \u001b[36m                   3.1\u001b[0m │ \u001b[36m          7483649\u001b[0m │  │\n",
              "│ │ \u001b[38;5;141mTimely response?                 \u001b[0m │ \u001b[36m            0\u001b[0m │ \u001b[36m        0\u001b[0m │ \u001b[36m                     1\u001b[0m │ \u001b[36m          2396033\u001b[0m │  │\n",
              "│ │ \u001b[38;5;141mConsumer disputed?               \u001b[0m │ \u001b[36m      1627574\u001b[0m │ \u001b[36m    67.93\u001b[0m │ \u001b[36m                  0.32\u001b[0m │ \u001b[36m           768459\u001b[0m │  │\n",
              "│ └───────────────────────────────────┴───────────────┴───────────┴────────────────────────┴───────────────────┘  │\n",
              "╰────────────────────────────────────────────────────── End ──────────────────────────────────────────────────────╯\n"
            ]
          },
          "metadata": {},
          "output_type": "display_data"
        }
      ],
      "source": [
        "skim(data)"
      ]
    },
    {
      "cell_type": "markdown",
      "metadata": {},
      "source": [
        "## 2) On enleve garde que les 2 colonnes qui nous interessent: le recours et le produit associé"
      ]
    },
    {
      "cell_type": "code",
      "execution_count": 6,
      "metadata": {
        "id": "es-ODtDi4g-M"
      },
      "outputs": [],
      "source": [
        "data_complaints = data[['Consumer complaint narrative', 'Product' ]]"
      ]
    },
    {
      "cell_type": "code",
      "execution_count": 7,
      "metadata": {
        "colab": {
          "base_uri": "https://localhost:8080/",
          "height": 423
        },
        "id": "E3eJfUBp8RXr",
        "outputId": "aa2c250e-5c92-44a0-e81e-8424de695a12"
      },
      "outputs": [
        {
          "data": {
            "text/html": [
              "<div>\n",
              "<style scoped>\n",
              "    .dataframe tbody tr th:only-of-type {\n",
              "        vertical-align: middle;\n",
              "    }\n",
              "\n",
              "    .dataframe tbody tr th {\n",
              "        vertical-align: top;\n",
              "    }\n",
              "\n",
              "    .dataframe thead th {\n",
              "        text-align: right;\n",
              "    }\n",
              "</style>\n",
              "<table border=\"1\" class=\"dataframe\">\n",
              "  <thead>\n",
              "    <tr style=\"text-align: right;\">\n",
              "      <th></th>\n",
              "      <th>Consumer complaint narrative</th>\n",
              "      <th>Product</th>\n",
              "    </tr>\n",
              "  </thead>\n",
              "  <tbody>\n",
              "    <tr>\n",
              "      <th>0</th>\n",
              "      <td>NaN</td>\n",
              "      <td>Credit reporting, credit repair services, or o...</td>\n",
              "    </tr>\n",
              "    <tr>\n",
              "      <th>1</th>\n",
              "      <td>I contacted Ally on Friday XX/XX/XXXX after fa...</td>\n",
              "      <td>Vehicle loan or lease</td>\n",
              "    </tr>\n",
              "    <tr>\n",
              "      <th>2</th>\n",
              "      <td>NaN</td>\n",
              "      <td>Credit reporting, credit repair services, or o...</td>\n",
              "    </tr>\n",
              "    <tr>\n",
              "      <th>3</th>\n",
              "      <td>NaN</td>\n",
              "      <td>Credit card or prepaid card</td>\n",
              "    </tr>\n",
              "    <tr>\n",
              "      <th>4</th>\n",
              "      <td>Capital One Auto Finance incorrectly and witho...</td>\n",
              "      <td>Credit reporting, credit repair services, or o...</td>\n",
              "    </tr>\n",
              "    <tr>\n",
              "      <th>...</th>\n",
              "      <td>...</td>\n",
              "      <td>...</td>\n",
              "    </tr>\n",
              "    <tr>\n",
              "      <th>2396028</th>\n",
              "      <td>I have disputed my debts several times with no...</td>\n",
              "      <td>Debt collection</td>\n",
              "    </tr>\n",
              "    <tr>\n",
              "      <th>2396029</th>\n",
              "      <td>My father died in XX/XX/XXXX. Left me his only...</td>\n",
              "      <td>Mortgage</td>\n",
              "    </tr>\n",
              "    <tr>\n",
              "      <th>2396030</th>\n",
              "      <td>cfbp i would Like to file a complaint on Exper...</td>\n",
              "      <td>Credit reporting</td>\n",
              "    </tr>\n",
              "    <tr>\n",
              "      <th>2396031</th>\n",
              "      <td>My husband and I are in the middle of an FHA S...</td>\n",
              "      <td>Credit reporting</td>\n",
              "    </tr>\n",
              "    <tr>\n",
              "      <th>2396032</th>\n",
              "      <td>NaN</td>\n",
              "      <td>Mortgage</td>\n",
              "    </tr>\n",
              "  </tbody>\n",
              "</table>\n",
              "<p>2396033 rows × 2 columns</p>\n",
              "</div>"
            ],
            "text/plain": [
              "                              Consumer complaint narrative  \\\n",
              "0                                                      NaN   \n",
              "1        I contacted Ally on Friday XX/XX/XXXX after fa...   \n",
              "2                                                      NaN   \n",
              "3                                                      NaN   \n",
              "4        Capital One Auto Finance incorrectly and witho...   \n",
              "...                                                    ...   \n",
              "2396028  I have disputed my debts several times with no...   \n",
              "2396029  My father died in XX/XX/XXXX. Left me his only...   \n",
              "2396030  cfbp i would Like to file a complaint on Exper...   \n",
              "2396031  My husband and I are in the middle of an FHA S...   \n",
              "2396032                                                NaN   \n",
              "\n",
              "                                                   Product  \n",
              "0        Credit reporting, credit repair services, or o...  \n",
              "1                                    Vehicle loan or lease  \n",
              "2        Credit reporting, credit repair services, or o...  \n",
              "3                              Credit card or prepaid card  \n",
              "4        Credit reporting, credit repair services, or o...  \n",
              "...                                                    ...  \n",
              "2396028                                    Debt collection  \n",
              "2396029                                           Mortgage  \n",
              "2396030                                   Credit reporting  \n",
              "2396031                                   Credit reporting  \n",
              "2396032                                           Mortgage  \n",
              "\n",
              "[2396033 rows x 2 columns]"
            ]
          },
          "execution_count": 7,
          "metadata": {},
          "output_type": "execute_result"
        }
      ],
      "source": [
        "data_complaints"
      ]
    },
    {
      "cell_type": "markdown",
      "metadata": {},
      "source": [
        "## 3) On renomme ces colonnes en text et label"
      ]
    },
    {
      "cell_type": "code",
      "execution_count": 8,
      "metadata": {
        "id": "Hn6CKCcS8Uo-"
      },
      "outputs": [],
      "source": [
        "map = {\"Consumer complaint narrative\": \"text\",\n",
        "       \"Product\": \"label\"\n",
        "      }"
      ]
    },
    {
      "cell_type": "code",
      "execution_count": 9,
      "metadata": {
        "id": "EMTDT_DZ8szR"
      },
      "outputs": [],
      "source": [
        "data_complaints = data_complaints.rename(columns=map)"
      ]
    },
    {
      "cell_type": "markdown",
      "metadata": {},
      "source": [
        "## Nombre de classes existantes"
      ]
    },
    {
      "cell_type": "code",
      "execution_count": 10,
      "metadata": {
        "colab": {
          "base_uri": "https://localhost:8080/"
        },
        "id": "8ihNPEfZ80Ym",
        "outputId": "caad3489-67f8-457d-b551-3a67b281b427"
      },
      "outputs": [
        {
          "data": {
            "text/plain": [
              "['Credit reporting, credit repair services, or other personal consumer reports',\n",
              " 'Vehicle loan or lease',\n",
              " 'Credit card or prepaid card',\n",
              " 'Debt collection',\n",
              " 'Mortgage',\n",
              " 'Checking or savings account',\n",
              " 'Money transfer, virtual currency, or money service',\n",
              " 'Student loan',\n",
              " 'Payday loan, title loan, or personal loan',\n",
              " 'Consumer Loan',\n",
              " 'Bank account or service',\n",
              " 'Money transfers',\n",
              " 'Credit reporting',\n",
              " 'Credit card',\n",
              " 'Other financial service',\n",
              " 'Payday loan',\n",
              " 'Prepaid card',\n",
              " 'Virtual currency']"
            ]
          },
          "execution_count": 10,
          "metadata": {},
          "output_type": "execute_result"
        }
      ],
      "source": [
        "list(data_complaints.label.unique())"
      ]
    },
    {
      "cell_type": "markdown",
      "metadata": {},
      "source": [
        "## 4) On regarde l'existence de valeurs manquantes"
      ]
    },
    {
      "cell_type": "code",
      "execution_count": 11,
      "metadata": {
        "id": "HRRq0A96AXPu"
      },
      "outputs": [],
      "source": [
        "nan_counts = data_complaints.isna().sum()"
      ]
    },
    {
      "cell_type": "code",
      "execution_count": 37,
      "metadata": {
        "colab": {
          "base_uri": "https://localhost:8080/",
          "height": 584
        },
        "id": "UCEy56D3-r_q",
        "outputId": "da6553db-dedc-4c58-8b45-779b07fd4237"
      },
      "outputs": [
        {
          "data": {
            "image/png": "[encoded data removed]",
            "text/plain": [
              "<Figure size 800x600 with 1 Axes>"
            ]
          },
          "metadata": {},
          "output_type": "display_data"
        }
      ],
      "source": [
        "# Tracé du graphe\n",
        "plt.figure(figsize=(8, 6))\n",
        "nan_counts.plot(kind='bar')\n",
        "plt.title('Nombre de valeurs NaN par colonne')\n",
        "plt.xlabel('Colonnes')\n",
        "plt.ylabel('Nombre de NaN')\n",
        "plt.xticks(rotation=45)\n",
        "plt.show()"
      ]
    },
    {
      "cell_type": "markdown",
      "metadata": {},
      "source": [
        "## Il y'en a énormément, autour de la moitié du jeu de donnée, j'ai décidé de les supprimer, on gardera pour l'instant autour de 800000 données"
      ]
    },
    {
      "cell_type": "code",
      "execution_count": 39,
      "metadata": {
        "id": "_sHbrjPsAhyY"
      },
      "outputs": [],
      "source": [
        "data_complaints = data_complaints.dropna()"
      ]
    },
    {
      "cell_type": "code",
      "execution_count": 40,
      "metadata": {
        "colab": {
          "base_uri": "https://localhost:8080/",
          "height": 273
        },
        "id": "8jbnYDSxAvQu",
        "outputId": "a81f6350-9a66-4c3d-c74c-a96d26e0d4fb"
      },
      "outputs": [
        {
          "data": {
            "text/html": [
              "<pre style=\"white-space:pre;overflow-x:auto;line-height:normal;font-family:Menlo,'DejaVu Sans Mono',consolas,'Courier New',monospace\">╭──────────────────────────────────────────────── skimpy summary ─────────────────────────────────────────────────╮\n",
              "│ <span style=\"font-style: italic\">         Data Summary         </span> <span style=\"font-style: italic\">      Data Types       </span>                                                          │\n",
              "│ ┏━━━━━━━━━━━━━━━━━━━┳━━━━━━━━┓ ┏━━━━━━━━━━━━━┳━━━━━━━┓                                                          │\n",
              "│ ┃<span style=\"color: #008080; text-decoration-color: #008080; font-weight: bold\"> dataframe         </span>┃<span style=\"color: #008080; text-decoration-color: #008080; font-weight: bold\"> Values </span>┃ ┃<span style=\"color: #008080; text-decoration-color: #008080; font-weight: bold\"> Column Type </span>┃<span style=\"color: #008080; text-decoration-color: #008080; font-weight: bold\"> Count </span>┃                                                          │\n",
              "│ ┡━━━━━━━━━━━━━━━━━━━╇━━━━━━━━┩ ┡━━━━━━━━━━━━━╇━━━━━━━┩                                                          │\n",
              "│ │ Number of rows    │ 835210 │ │ string      │ 2     │                                                          │\n",
              "│ │ Number of columns │ 2      │ └─────────────┴───────┘                                                          │\n",
              "│ └───────────────────┴────────┘                                                                                  │\n",
              "│ <span style=\"font-style: italic\">                                                    string                                                    </span>  │\n",
              "│ ┏━━━━━━━━━━━━━━━━━━━━━━━━━━━┳━━━━━━━━━┳━━━━━━━━━━━━┳━━━━━━━━━━━━━━━━━━━━━━━━━━━━━━┳━━━━━━━━━━━━━━━━━━━━━━━━━━┓  │\n",
              "│ ┃<span style=\"font-weight: bold\"> column_name               </span>┃<span style=\"font-weight: bold\"> NA      </span>┃<span style=\"font-weight: bold\"> NA %       </span>┃<span style=\"font-weight: bold\"> words per row                </span>┃<span style=\"font-weight: bold\"> total words              </span>┃  │\n",
              "│ ┡━━━━━━━━━━━━━━━━━━━━━━━━━━━╇━━━━━━━━━╇━━━━━━━━━━━━╇━━━━━━━━━━━━━━━━━━━━━━━━━━━━━━╇━━━━━━━━━━━━━━━━━━━━━━━━━━┩  │\n",
              "│ │ <span style=\"color: #af87ff; text-decoration-color: #af87ff\">text                     </span> │ <span style=\"color: #008080; text-decoration-color: #008080\">      0</span> │ <span style=\"color: #008080; text-decoration-color: #008080\">         0</span> │ <span style=\"color: #008080; text-decoration-color: #008080\">                         100</span> │ <span style=\"color: #008080; text-decoration-color: #008080\">                83983709</span> │  │\n",
              "│ │ <span style=\"color: #af87ff; text-decoration-color: #af87ff\">label                    </span> │ <span style=\"color: #008080; text-decoration-color: #008080\">      0</span> │ <span style=\"color: #008080; text-decoration-color: #008080\">         0</span> │ <span style=\"color: #008080; text-decoration-color: #008080\">                         5.6</span> │ <span style=\"color: #008080; text-decoration-color: #008080\">                 4703155</span> │  │\n",
              "│ └───────────────────────────┴─────────┴────────────┴──────────────────────────────┴──────────────────────────┘  │\n",
              "╰────────────────────────────────────────────────────── End ──────────────────────────────────────────────────────╯\n",
              "</pre>\n"
            ],
            "text/plain": [
              "╭──────────────────────────────────────────────── skimpy summary ─────────────────────────────────────────────────╮\n",
              "│ \u001b[3m         Data Summary         \u001b[0m \u001b[3m      Data Types       \u001b[0m                                                          │\n",
              "│ ┏━━━━━━━━━━━━━━━━━━━┳━━━━━━━━┓ ┏━━━━━━━━━━━━━┳━━━━━━━┓                                                          │\n",
              "│ ┃\u001b[1;36m \u001b[0m\u001b[1;36mdataframe        \u001b[0m\u001b[1;36m \u001b[0m┃\u001b[1;36m \u001b[0m\u001b[1;36mValues\u001b[0m\u001b[1;36m \u001b[0m┃ ┃\u001b[1;36m \u001b[0m\u001b[1;36mColumn Type\u001b[0m\u001b[1;36m \u001b[0m┃\u001b[1;36m \u001b[0m\u001b[1;36mCount\u001b[0m\u001b[1;36m \u001b[0m┃                                                          │\n",
              "│ ┡━━━━━━━━━━━━━━━━━━━╇━━━━━━━━┩ ┡━━━━━━━━━━━━━╇━━━━━━━┩                                                          │\n",
              "│ │ Number of rows    │ 835210 │ │ string      │ 2     │                                                          │\n",
              "│ │ Number of columns │ 2      │ └─────────────┴───────┘                                                          │\n",
              "│ └───────────────────┴────────┘                                                                                  │\n",
              "│ \u001b[3m                                                    string                                                    \u001b[0m  │\n",
              "│ ┏━━━━━━━━━━━━━━━━━━━━━━━━━━━┳━━━━━━━━━┳━━━━━━━━━━━━┳━━━━━━━━━━━━━━━━━━━━━━━━━━━━━━┳━━━━━━━━━━━━━━━━━━━━━━━━━━┓  │\n",
              "│ ┃\u001b[1m \u001b[0m\u001b[1mcolumn_name              \u001b[0m\u001b[1m \u001b[0m┃\u001b[1m \u001b[0m\u001b[1mNA     \u001b[0m\u001b[1m \u001b[0m┃\u001b[1m \u001b[0m\u001b[1mNA %      \u001b[0m\u001b[1m \u001b[0m┃\u001b[1m \u001b[0m\u001b[1mwords per row               \u001b[0m\u001b[1m \u001b[0m┃\u001b[1m \u001b[0m\u001b[1mtotal words             \u001b[0m\u001b[1m \u001b[0m┃  │\n",
              "│ ┡━━━━━━━━━━━━━━━━━━━━━━━━━━━╇━━━━━━━━━╇━━━━━━━━━━━━╇━━━━━━━━━━━━━━━━━━━━━━━━━━━━━━╇━━━━━━━━━━━━━━━━━━━━━━━━━━┩  │\n",
              "│ │ \u001b[38;5;141mtext                     \u001b[0m │ \u001b[36m      0\u001b[0m │ \u001b[36m         0\u001b[0m │ \u001b[36m                         100\u001b[0m │ \u001b[36m                83983709\u001b[0m │  │\n",
              "│ │ \u001b[38;5;141mlabel                    \u001b[0m │ \u001b[36m      0\u001b[0m │ \u001b[36m         0\u001b[0m │ \u001b[36m                         5.6\u001b[0m │ \u001b[36m                 4703155\u001b[0m │  │\n",
              "│ └───────────────────────────┴─────────┴────────────┴──────────────────────────────┴──────────────────────────┘  │\n",
              "╰────────────────────────────────────────────────────── End ──────────────────────────────────────────────────────╯\n"
            ]
          },
          "metadata": {},
          "output_type": "display_data"
        }
      ],
      "source": [
        "skim(data_complaints)"
      ]
    },
    {
      "cell_type": "markdown",
      "metadata": {},
      "source": [
        "## 5) On regarde la repartition des labels dans le jeu de donnée (de 700000 données) pour avoir une idée sur l'equilibre des classes"
      ]
    },
    {
      "cell_type": "code",
      "execution_count": 41,
      "metadata": {
        "id": "CvC7JBlrBnAm"
      },
      "outputs": [],
      "source": [
        "label_counts = data_complaints['label'].value_counts().reset_index()\n"
      ]
    },
    {
      "cell_type": "code",
      "execution_count": 42,
      "metadata": {
        "colab": {
          "base_uri": "https://localhost:8080/",
          "height": 542
        },
        "id": "4yD0dS80Bf5n",
        "outputId": "1d88a4cc-2ee3-4914-ada7-d539803b70e5"
      },
      "outputs": [
        {
          "data": {
            "application/vnd.plotly.v1+json": {
              "config": {
                "plotlyServerURL": "https://plot.ly"
              },
              "data": [
                {
                  "alignmentgroup": "True",
                  "hovertemplate": "label=%{x}<br>count=%{y}<extra></extra>",
                  "legendgroup": "",
                  "marker": {
                    "color": "#636efa",
                    "pattern": {
                      "shape": ""
                    }
                  },
                  "name": "",
                  "offsetgroup": "",
                  "orientation": "v",
                  "showlegend": false,
                  "textposition": "auto",
                  "type": "bar",
                  "x": [
                    "Credit reporting, credit repair services, or other personal consumer reports",
                    "Debt collection",
                    "Mortgage",
                    "Credit card or prepaid card",
                    "Checking or savings account",
                    "Credit reporting",
                    "Student loan",
                    "Money transfer, virtual currency, or money service",
                    "Credit card",
                    "Vehicle loan or lease",
                    "Bank account or service",
                    "Payday loan, title loan, or personal loan",
                    "Consumer Loan",
                    "Payday loan",
                    "Money transfers",
                    "Prepaid card",
                    "Other financial service",
                    "Virtual currency"
                  ],
                  "xaxis": "x",
                  "y": [
                    329868,
                    161972,
                    86156,
                    63095,
                    38986,
                    31588,
                    29430,
                    19488,
                    18838,
                    15659,
                    14885,
                    10774,
                    9470,
                    1746,
                    1497,
                    1450,
                    292,
                    16
                  ],
                  "yaxis": "y"
                }
              ],
              "layout": {
                "barmode": "relative",
                "height": 700,
                "legend": {
                  "tracegroupgap": 0
                },
                "template": {
                  "data": {
                    "bar": [
                      {
                        "error_x": {
                          "color": "#2a3f5f"
                        },
                        "error_y": {
                          "color": "#2a3f5f"
                        },
                        "marker": {
                          "line": {
                            "color": "#E5ECF6",
                            "width": 0.5
                          },
                          "pattern": {
                            "fillmode": "overlay",
                            "size": 10,
                            "solidity": 0.2
                          }
                        },
                        "type": "bar"
                      }
                    ],
                    "barpolar": [
                      {
                        "marker": {
                          "line": {
                            "color": "#E5ECF6",
                            "width": 0.5
                          },
                          "pattern": {
                            "fillmode": "overlay",
                            "size": 10,
                            "solidity": 0.2
                          }
                        },
                        "type": "barpolar"
                      }
                    ],
                    "carpet": [
                      {
                        "aaxis": {
                          "endlinecolor": "#2a3f5f",
                          "gridcolor": "white",
                          "linecolor": "white",
                          "minorgridcolor": "white",
                          "startlinecolor": "#2a3f5f"
                        },
                        "baxis": {
                          "endlinecolor": "#2a3f5f",
                          "gridcolor": "white",
                          "linecolor": "white",
                          "minorgridcolor": "white",
                          "startlinecolor": "#2a3f5f"
                        },
                        "type": "carpet"
                      }
                    ],
                    "choropleth": [
                      {
                        "colorbar": {
                          "outlinewidth": 0,
                          "ticks": ""
                        },
                        "type": "choropleth"
                      }
                    ],
                    "contour": [
                      {
                        "colorbar": {
                          "outlinewidth": 0,
                          "ticks": ""
                        },
                        "colorscale": [
                          [
                            0,
                            "#0d0887"
                          ],
                          [
                            0.1111111111111111,
                            "#46039f"
                          ],
                          [
                            0.2222222222222222,
                            "#7201a8"
                          ],
                          [
                            0.3333333333333333,
                            "#9c179e"
                          ],
                          [
                            0.4444444444444444,
                            "#bd3786"
                          ],
                          [
                            0.5555555555555556,
                            "#d8576b"
                          ],
                          [
                            0.6666666666666666,
                            "#ed7953"
                          ],
                          [
                            0.7777777777777778,
                            "#fb9f3a"
                          ],
                          [
                            0.8888888888888888,
                            "#fdca26"
                          ],
                          [
                            1,
                            "#f0f921"
                          ]
                        ],
                        "type": "contour"
                      }
                    ],
                    "contourcarpet": [
                      {
                        "colorbar": {
                          "outlinewidth": 0,
                          "ticks": ""
                        },
                        "type": "contourcarpet"
                      }
                    ],
                    "heatmap": [
                      {
                        "colorbar": {
                          "outlinewidth": 0,
                          "ticks": ""
                        },
                        "colorscale": [
                          [
                            0,
                            "#0d0887"
                          ],
                          [
                            0.1111111111111111,
                            "#46039f"
                          ],
                          [
                            0.2222222222222222,
                            "#7201a8"
                          ],
                          [
                            0.3333333333333333,
                            "#9c179e"
                          ],
                          [
                            0.4444444444444444,
                            "#bd3786"
                          ],
                          [
                            0.5555555555555556,
                            "#d8576b"
                          ],
                          [
                            0.6666666666666666,
                            "#ed7953"
                          ],
                          [
                            0.7777777777777778,
                            "#fb9f3a"
                          ],
                          [
                            0.8888888888888888,
                            "#fdca26"
                          ],
                          [
                            1,
                            "#f0f921"
                          ]
                        ],
                        "type": "heatmap"
                      }
                    ],
                    "heatmapgl": [
                      {
                        "colorbar": {
                          "outlinewidth": 0,
                          "ticks": ""
                        },
                        "colorscale": [
                          [
                            0,
                            "#0d0887"
                          ],
                          [
                            0.1111111111111111,
                            "#46039f"
                          ],
                          [
                            0.2222222222222222,
                            "#7201a8"
                          ],
                          [
                            0.3333333333333333,
                            "#9c179e"
                          ],
                          [
                            0.4444444444444444,
                            "#bd3786"
                          ],
                          [
                            0.5555555555555556,
                            "#d8576b"
                          ],
                          [
                            0.6666666666666666,
                            "#ed7953"
                          ],
                          [
                            0.7777777777777778,
                            "#fb9f3a"
                          ],
                          [
                            0.8888888888888888,
                            "#fdca26"
                          ],
                          [
                            1,
                            "#f0f921"
                          ]
                        ],
                        "type": "heatmapgl"
                      }
                    ],
                    "histogram": [
                      {
                        "marker": {
                          "pattern": {
                            "fillmode": "overlay",
                            "size": 10,
                            "solidity": 0.2
                          }
                        },
                        "type": "histogram"
                      }
                    ],
                    "histogram2d": [
                      {
                        "colorbar": {
                          "outlinewidth": 0,
                          "ticks": ""
                        },
                        "colorscale": [
                          [
                            0,
                            "#0d0887"
                          ],
                          [
                            0.1111111111111111,
                            "#46039f"
                          ],
                          [
                            0.2222222222222222,
                            "#7201a8"
                          ],
                          [
                            0.3333333333333333,
                            "#9c179e"
                          ],
                          [
                            0.4444444444444444,
                            "#bd3786"
                          ],
                          [
                            0.5555555555555556,
                            "#d8576b"
                          ],
                          [
                            0.6666666666666666,
                            "#ed7953"
                          ],
                          [
                            0.7777777777777778,
                            "#fb9f3a"
                          ],
                          [
                            0.8888888888888888,
                            "#fdca26"
                          ],
                          [
                            1,
                            "#f0f921"
                          ]
                        ],
                        "type": "histogram2d"
                      }
                    ],
                    "histogram2dcontour": [
                      {
                        "colorbar": {
                          "outlinewidth": 0,
                          "ticks": ""
                        },
                        "colorscale": [
                          [
                            0,
                            "#0d0887"
                          ],
                          [
                            0.1111111111111111,
                            "#46039f"
                          ],
                          [
                            0.2222222222222222,
                            "#7201a8"
                          ],
                          [
                            0.3333333333333333,
                            "#9c179e"
                          ],
                          [
                            0.4444444444444444,
                            "#bd3786"
                          ],
                          [
                            0.5555555555555556,
                            "#d8576b"
                          ],
                          [
                            0.6666666666666666,
                            "#ed7953"
                          ],
                          [
                            0.7777777777777778,
                            "#fb9f3a"
                          ],
                          [
                            0.8888888888888888,
                            "#fdca26"
                          ],
                          [
                            1,
                            "#f0f921"
                          ]
                        ],
                        "type": "histogram2dcontour"
                      }
                    ],
                    "mesh3d": [
                      {
                        "colorbar": {
                          "outlinewidth": 0,
                          "ticks": ""
                        },
                        "type": "mesh3d"
                      }
                    ],
                    "parcoords": [
                      {
                        "line": {
                          "colorbar": {
                            "outlinewidth": 0,
                            "ticks": ""
                          }
                        },
                        "type": "parcoords"
                      }
                    ],
                    "pie": [
                      {
                        "automargin": true,
                        "type": "pie"
                      }
                    ],
                    "scatter": [
                      {
                        "fillpattern": {
                          "fillmode": "overlay",
                          "size": 10,
                          "solidity": 0.2
                        },
                        "type": "scatter"
                      }
                    ],
                    "scatter3d": [
                      {
                        "line": {
                          "colorbar": {
                            "outlinewidth": 0,
                            "ticks": ""
                          }
                        },
                        "marker": {
                          "colorbar": {
                            "outlinewidth": 0,
                            "ticks": ""
                          }
                        },
                        "type": "scatter3d"
                      }
                    ],
                    "scattercarpet": [
                      {
                        "marker": {
                          "colorbar": {
                            "outlinewidth": 0,
                            "ticks": ""
                          }
                        },
                        "type": "scattercarpet"
                      }
                    ],
                    "scattergeo": [
                      {
                        "marker": {
                          "colorbar": {
                            "outlinewidth": 0,
                            "ticks": ""
                          }
                        },
                        "type": "scattergeo"
                      }
                    ],
                    "scattergl": [
                      {
                        "marker": {
                          "colorbar": {
                            "outlinewidth": 0,
                            "ticks": ""
                          }
                        },
                        "type": "scattergl"
                      }
                    ],
                    "scattermapbox": [
                      {
                        "marker": {
                          "colorbar": {
                            "outlinewidth": 0,
                            "ticks": ""
                          }
                        },
                        "type": "scattermapbox"
                      }
                    ],
                    "scatterpolar": [
                      {
                        "marker": {
                          "colorbar": {
                            "outlinewidth": 0,
                            "ticks": ""
                          }
                        },
                        "type": "scatterpolar"
                      }
                    ],
                    "scatterpolargl": [
                      {
                        "marker": {
                          "colorbar": {
                            "outlinewidth": 0,
                            "ticks": ""
                          }
                        },
                        "type": "scatterpolargl"
                      }
                    ],
                    "scatterternary": [
                      {
                        "marker": {
                          "colorbar": {
                            "outlinewidth": 0,
                            "ticks": ""
                          }
                        },
                        "type": "scatterternary"
                      }
                    ],
                    "surface": [
                      {
                        "colorbar": {
                          "outlinewidth": 0,
                          "ticks": ""
                        },
                        "colorscale": [
                          [
                            0,
                            "#0d0887"
                          ],
                          [
                            0.1111111111111111,
                            "#46039f"
                          ],
                          [
                            0.2222222222222222,
                            "#7201a8"
                          ],
                          [
                            0.3333333333333333,
                            "#9c179e"
                          ],
                          [
                            0.4444444444444444,
                            "#bd3786"
                          ],
                          [
                            0.5555555555555556,
                            "#d8576b"
                          ],
                          [
                            0.6666666666666666,
                            "#ed7953"
                          ],
                          [
                            0.7777777777777778,
                            "#fb9f3a"
                          ],
                          [
                            0.8888888888888888,
                            "#fdca26"
                          ],
                          [
                            1,
                            "#f0f921"
                          ]
                        ],
                        "type": "surface"
                      }
                    ],
                    "table": [
                      {
                        "cells": {
                          "fill": {
                            "color": "#EBF0F8"
                          },
                          "line": {
                            "color": "white"
                          }
                        },
                        "header": {
                          "fill": {
                            "color": "#C8D4E3"
                          },
                          "line": {
                            "color": "white"
                          }
                        },
                        "type": "table"
                      }
                    ]
                  },
                  "layout": {
                    "annotationdefaults": {
                      "arrowcolor": "#2a3f5f",
                      "arrowhead": 0,
                      "arrowwidth": 1
                    },
                    "autotypenumbers": "strict",
                    "coloraxis": {
                      "colorbar": {
                        "outlinewidth": 0,
                        "ticks": ""
                      }
                    },
                    "colorscale": {
                      "diverging": [
                        [
                          0,
                          "#8e0152"
                        ],
                        [
                          0.1,
                          "#c51b7d"
                        ],
                        [
                          0.2,
                          "#de77ae"
                        ],
                        [
                          0.3,
                          "#f1b6da"
                        ],
                        [
                          0.4,
                          "#fde0ef"
                        ],
                        [
                          0.5,
                          "#f7f7f7"
                        ],
                        [
                          0.6,
                          "#e6f5d0"
                        ],
                        [
                          0.7,
                          "#b8e186"
                        ],
                        [
                          0.8,
                          "#7fbc41"
                        ],
                        [
                          0.9,
                          "#4d9221"
                        ],
                        [
                          1,
                          "#276419"
                        ]
                      ],
                      "sequential": [
                        [
                          0,
                          "#0d0887"
                        ],
                        [
                          0.1111111111111111,
                          "#46039f"
                        ],
                        [
                          0.2222222222222222,
                          "#7201a8"
                        ],
                        [
                          0.3333333333333333,
                          "#9c179e"
                        ],
                        [
                          0.4444444444444444,
                          "#bd3786"
                        ],
                        [
                          0.5555555555555556,
                          "#d8576b"
                        ],
                        [
                          0.6666666666666666,
                          "#ed7953"
                        ],
                        [
                          0.7777777777777778,
                          "#fb9f3a"
                        ],
                        [
                          0.8888888888888888,
                          "#fdca26"
                        ],
                        [
                          1,
                          "#f0f921"
                        ]
                      ],
                      "sequentialminus": [
                        [
                          0,
                          "#0d0887"
                        ],
                        [
                          0.1111111111111111,
                          "#46039f"
                        ],
                        [
                          0.2222222222222222,
                          "#7201a8"
                        ],
                        [
                          0.3333333333333333,
                          "#9c179e"
                        ],
                        [
                          0.4444444444444444,
                          "#bd3786"
                        ],
                        [
                          0.5555555555555556,
                          "#d8576b"
                        ],
                        [
                          0.6666666666666666,
                          "#ed7953"
                        ],
                        [
                          0.7777777777777778,
                          "#fb9f3a"
                        ],
                        [
                          0.8888888888888888,
                          "#fdca26"
                        ],
                        [
                          1,
                          "#f0f921"
                        ]
                      ]
                    },
                    "colorway": [
                      "#636efa",
                      "#EF553B",
                      "#00cc96",
                      "#ab63fa",
                      "#FFA15A",
                      "#19d3f3",
                      "#FF6692",
                      "#B6E880",
                      "#FF97FF",
                      "#FECB52"
                    ],
                    "font": {
                      "color": "#2a3f5f"
                    },
                    "geo": {
                      "bgcolor": "white",
                      "lakecolor": "white",
                      "landcolor": "#E5ECF6",
                      "showlakes": true,
                      "showland": true,
                      "subunitcolor": "white"
                    },
                    "hoverlabel": {
                      "align": "left"
                    },
                    "hovermode": "closest",
                    "mapbox": {
                      "style": "light"
                    },
                    "paper_bgcolor": "white",
                    "plot_bgcolor": "#E5ECF6",
                    "polar": {
                      "angularaxis": {
                        "gridcolor": "white",
                        "linecolor": "white",
                        "ticks": ""
                      },
                      "bgcolor": "#E5ECF6",
                      "radialaxis": {
                        "gridcolor": "white",
                        "linecolor": "white",
                        "ticks": ""
                      }
                    },
                    "scene": {
                      "xaxis": {
                        "backgroundcolor": "#E5ECF6",
                        "gridcolor": "white",
                        "gridwidth": 2,
                        "linecolor": "white",
                        "showbackground": true,
                        "ticks": "",
                        "zerolinecolor": "white"
                      },
                      "yaxis": {
                        "backgroundcolor": "#E5ECF6",
                        "gridcolor": "white",
                        "gridwidth": 2,
                        "linecolor": "white",
                        "showbackground": true,
                        "ticks": "",
                        "zerolinecolor": "white"
                      },
                      "zaxis": {
                        "backgroundcolor": "#E5ECF6",
                        "gridcolor": "white",
                        "gridwidth": 2,
                        "linecolor": "white",
                        "showbackground": true,
                        "ticks": "",
                        "zerolinecolor": "white"
                      }
                    },
                    "shapedefaults": {
                      "line": {
                        "color": "#2a3f5f"
                      }
                    },
                    "ternary": {
                      "aaxis": {
                        "gridcolor": "white",
                        "linecolor": "white",
                        "ticks": ""
                      },
                      "baxis": {
                        "gridcolor": "white",
                        "linecolor": "white",
                        "ticks": ""
                      },
                      "bgcolor": "#E5ECF6",
                      "caxis": {
                        "gridcolor": "white",
                        "linecolor": "white",
                        "ticks": ""
                      }
                    },
                    "title": {
                      "x": 0.05
                    },
                    "xaxis": {
                      "automargin": true,
                      "gridcolor": "white",
                      "linecolor": "white",
                      "ticks": "",
                      "title": {
                        "standoff": 15
                      },
                      "zerolinecolor": "white",
                      "zerolinewidth": 2
                    },
                    "yaxis": {
                      "automargin": true,
                      "gridcolor": "white",
                      "linecolor": "white",
                      "ticks": "",
                      "title": {
                        "standoff": 15
                      },
                      "zerolinecolor": "white",
                      "zerolinewidth": 2
                    }
                  }
                },
                "title": {
                  "text": "Repartition des Labels dans le Dataframe"
                },
                "width": 1000,
                "xaxis": {
                  "anchor": "y",
                  "domain": [
                    0,
                    1
                  ],
                  "title": {
                    "text": "label"
                  }
                },
                "yaxis": {
                  "anchor": "x",
                  "domain": [
                    0,
                    1
                  ],
                  "title": {
                    "text": "count"
                  }
                }
              }
            }
          },
          "metadata": {},
          "output_type": "display_data"
        }
      ],
      "source": [
        "labels_repartition = px.bar(label_counts, x='label', y='count', title='Repartition des Labels dans le Dataframe', width=1000, height=700)\n",
        "labels_repartition.show()"
      ]
    },
    {
      "cell_type": "markdown",
      "metadata": {},
      "source": [
        "## Les classes sont trés désequilibrés, il s'agit d'une information clé que l'on devra prendre en compte dans la suite du projet. Regardons plus en detail"
      ]
    },
    {
      "cell_type": "markdown",
      "metadata": {},
      "source": [
        "## 6) Pourcentage de représentation des classes par rapport a la classe la plus présente. On pourra envisager d'enlever certaines classes (trés peu de données)"
      ]
    },
    {
      "cell_type": "code",
      "execution_count": 43,
      "metadata": {},
      "outputs": [
        {
          "data": {
            "text/plain": [
              "label\n",
              "Credit reporting, credit repair services, or other personal consumer reports    100.000000\n",
              "Debt collection                                                                  49.102065\n",
              "Mortgage                                                                         26.118326\n",
              "Credit card or prepaid card                                                      19.127348\n",
              "Checking or savings account                                                      11.818667\n",
              "Credit reporting                                                                  9.575952\n",
              "Student loan                                                                      8.921751\n",
              "Money transfer, virtual currency, or money service                                5.907818\n",
              "Credit card                                                                       5.710769\n",
              "Vehicle loan or lease                                                             4.747050\n",
              "Bank account or service                                                           4.512411\n",
              "Payday loan, title loan, or personal loan                                         3.266155\n",
              "Consumer Loan                                                                     2.870845\n",
              "Payday loan                                                                       0.529303\n",
              "Money transfers                                                                   0.453818\n",
              "Prepaid card                                                                      0.439570\n",
              "Other financial service                                                           0.088520\n",
              "Virtual currency                                                                  0.004850\n",
              "Name: count, dtype: float64"
            ]
          },
          "execution_count": 8,
          "metadata": {},
          "output_type": "execute_result"
        }
      ],
      "source": [
        "label_counts = data_complaints['label'].value_counts()\n",
        "\n",
        "max_count = label_counts.max()\n",
        "\n",
        "label_percentages = (label_counts / max_count) * 100\n",
        "\n",
        "label_percentages"
      ]
    },
    {
      "cell_type": "markdown",
      "metadata": {},
      "source": [
        "## 5 classes representent moins d'1% de données par rapport à la classe la plus présente, on peut les exclure car difficiles à considerer comme distinctions pour le modèle ( pas assez de données)"
      ]
    },
    {
      "cell_type": "code",
      "execution_count": 44,
      "metadata": {},
      "outputs": [],
      "source": [
        "threshold = max_count * 0.01\n",
        "\n",
        "classes_to_exclude = label_counts[label_counts < threshold].index\n",
        "\n",
        "data_complaints = data_complaints[~data_complaints['label'].isin(classes_to_exclude)]"
      ]
    },
    {
      "cell_type": "code",
      "execution_count": 45,
      "metadata": {},
      "outputs": [
        {
          "data": {
            "text/plain": [
              "label\n",
              "Credit reporting, credit repair services, or other personal consumer reports    329868\n",
              "Debt collection                                                                 161972\n",
              "Mortgage                                                                         86156\n",
              "Credit card or prepaid card                                                      63095\n",
              "Checking or savings account                                                      38986\n",
              "Credit reporting                                                                 31588\n",
              "Student loan                                                                     29430\n",
              "Money transfer, virtual currency, or money service                               19488\n",
              "Credit card                                                                      18838\n",
              "Vehicle loan or lease                                                            15659\n",
              "Bank account or service                                                          14885\n",
              "Payday loan, title loan, or personal loan                                        10774\n",
              "Consumer Loan                                                                     9470\n",
              "Name: count, dtype: int64"
            ]
          },
          "execution_count": 16,
          "metadata": {},
          "output_type": "execute_result"
        }
      ],
      "source": [
        "data_complaints['label'].value_counts()"
      ]
    },
    {
      "cell_type": "markdown",
      "metadata": {},
      "source": [
        "## 7) On effectue un premier traitement du texte des recours : tous en minuscules, enlever les caractères bruyants, les mots bloquants, les espaces en trop"
      ]
    },
    {
      "cell_type": "code",
      "execution_count": 56,
      "metadata": {
        "id": "kHaLIv9QBlQA"
      },
      "outputs": [],
      "source": [
        "RE_URL = re.compile(r'https?://\\S+|www\\.\\S+')\n",
        "RE_HTML_TAG = re.compile(r'<.*?>+')\n",
        "RE_NON_ALPHA = re.compile(r\"[^a-zA-Z?.!,¿']+\")\n",
        "RE_NUM = re.compile(r'\\w*\\d\\w*')\n",
        "RE_SPACE = re.compile(r'\\s+')\n",
        "\n",
        "stemmer = SnowballStemmer('english')\n",
        "stop_words = set(stopwords.words('english'))\n",
        "\n",
        "def clean_text_vectorized(text_series):\n",
        "    text_series = text_series.apply(lambda text: emoji.demojize(text))\n",
        "    text_series = text_series.str.lower()\n",
        "    text_series = text_series.str.replace(RE_URL, '', regex=True)\n",
        "    text_series = text_series.str.replace(RE_HTML_TAG, '', regex=True)\n",
        "    text_series = text_series.str.replace(RE_NUM, '', regex=True)\n",
        "    text_series = text_series.str.replace(RE_NON_ALPHA, ' ', regex=True)\n",
        "    text_series = text_series.str.replace(RE_SPACE, ' ', regex=True)\n",
        "    text_series = text_series.str.strip()\n",
        "\n",
        "    def remove_stopwords_stemming(text):\n",
        "        words = text.split()\n",
        "        filtered_words = [stemmer.stem(word) for word in words if word not in stop_words]\n",
        "        return ' '.join(filtered_words)\n",
        "\n",
        "    return text_series.apply(remove_stopwords_stemming)\n",
        "\n"
      ]
    },
    {
      "cell_type": "code",
      "execution_count": 63,
      "metadata": {
        "colab": {
          "base_uri": "https://localhost:8080/"
        },
        "id": "8nL2w6RJiuAR",
        "outputId": "0e19e62b-f727-4d7c-c209-790f705e97cb"
      },
      "outputs": [
        {
          "name": "stdout",
          "output_type": "stream",
          "text": [
            "Cleaning text...\n",
            "Done!\n"
          ]
        }
      ],
      "source": [
        "print('Cleaning text...')\n",
        "data_complaints['text'] = clean_text_vectorized(data_complaints['text'])\n",
        "print('Done!')"
      ]
    },
    {
      "cell_type": "code",
      "execution_count": 64,
      "metadata": {
        "id": "921k1m7ExSgs"
      },
      "outputs": [],
      "source": [
        "time_min_clean_method = 44"
      ]
    },
    {
      "cell_type": "markdown",
      "metadata": {},
      "source": [
        "## Cette methode non optimisé prend beaucoup de temps (44 min) à cause des 800000 données à parcourir. \n",
        "## La complexité algorithmique approximative pour un seul élément est $$ O(m) $$ où m est la longueur du texte.\n",
        "## Pour l'ensemble de la série avec n éléments, la complexité totale est $$ O(n \\cdot m) $$ avec m la longueur en moyenne du texte.\n"
      ]
    },
    {
      "cell_type": "markdown",
      "metadata": {},
      "source": [
        "## 8) On sauvegarde ce premier preprocessing sur le jeu de donnée initial."
      ]
    },
    {
      "cell_type": "code",
      "execution_count": 17,
      "metadata": {
        "id": "Lh7BEW1iuInE"
      },
      "outputs": [],
      "source": [
        "data_complaints.to_csv('complaints_cleaned.csv', index=False)"
      ]
    },
    {
      "cell_type": "markdown",
      "metadata": {},
      "source": [
        "## 8) Comparons les caractéristiques du dataset initial (initial mais sans les NaN) avec celui nettoyé  :\n",
        "## - sur la longueur moyenne du texte\n",
        "## - sur le nombre de mots uniques "
      ]
    },
    {
      "cell_type": "code",
      "execution_count": null,
      "metadata": {},
      "outputs": [],
      "source": [
        "data_cleaned = pd.read_csv('complaints_cleaned.csv')\n",
        "data_initial = pd.read_csv('complaints.csv')"
      ]
    },
    {
      "cell_type": "code",
      "execution_count": 27,
      "metadata": {},
      "outputs": [
        {
          "name": "stdout",
          "output_type": "stream",
          "text": [
            "Nombre de mots uniques (Initial): 511777\n",
            "Nombre de mots uniques (Nettoyé): 232278\n",
            "Longueur moyenne des textes (Initial): 190.09\n",
            "Longueur moyenne des textes (Nettoyé): 100.61\n"
          ]
        }
      ],
      "source": [
        "\n",
        "# Nombre de mots uniques et longueur moyenne des textes\n",
        "def text_statistics(texts):\n",
        "    texts = [str(text) for text in texts if pd.notnull(text)]\n",
        "    word_counts = [len(text.split()) for text in texts]\n",
        "    unique_words = set(word for text in texts for word in text.split())\n",
        "    return len(unique_words), sum(word_counts) / len(word_counts) if word_counts else 0\n",
        "\n",
        "unique_words_initial, avg_length_initial = text_statistics(data_initial['Consumer complaint narrative'])\n",
        "unique_words_clean, avg_length_clean = text_statistics(data_cleaned['text'])\n",
        "\n",
        "print(f'Nombre de mots uniques (Initial): {unique_words_initial}')\n",
        "print(f'Nombre de mots uniques (Nettoyé): {unique_words_clean}')\n",
        "print(f'Longueur moyenne des textes (Initial): {avg_length_initial:.2f}')\n",
        "print(f'Longueur moyenne des textes (Nettoyé): {avg_length_clean:.2f}')"
      ]
    },
    {
      "cell_type": "markdown",
      "metadata": {},
      "source": [
        "## 9) Visualisons la distribution de la longueur des textes pour les 2 jeux de données (sur l'ensemble des classes)"
      ]
    },
    {
      "cell_type": "code",
      "execution_count": 36,
      "metadata": {},
      "outputs": [
        {
          "name": "stderr",
          "output_type": "stream",
          "text": [
            "c:\\Users\\RAR9\\AppData\\Local\\anaconda3\\Lib\\site-packages\\seaborn\\_oldcore.py:1119: FutureWarning: use_inf_as_na option is deprecated and will be removed in a future version. Convert inf values to NaN before operating instead.\n",
            "  with pd.option_context('mode.use_inf_as_na', True):\n",
            "c:\\Users\\RAR9\\AppData\\Local\\anaconda3\\Lib\\site-packages\\seaborn\\_oldcore.py:1119: FutureWarning: use_inf_as_na option is deprecated and will be removed in a future version. Convert inf values to NaN before operating instead.\n",
            "  with pd.option_context('mode.use_inf_as_na', True):\n"
          ]
        },
        {
          "data": {
            "image/png": "[encoded data removed]",
            "text/plain": [
              "<Figure size 1400x600 with 2 Axes>"
            ]
          },
          "metadata": {},
          "output_type": "display_data"
        }
      ],
      "source": [
        "texts_initial = [str(text) for text in data_initial['Consumer complaint narrative'] if pd.notnull(text)]\n",
        "word_counts_initial = [len(text.split()) for text in texts_initial]\n",
        "text_length_df_initial = pd.DataFrame(word_counts_initial, columns=['length'])\n",
        "\n",
        "texts_clean = [str(text) for text in data_cleaned['text'] if pd.notnull(text)]\n",
        "word_counts_clean = [len(text.split()) for text in texts_clean]\n",
        "text_length_df_clean = pd.DataFrame(word_counts_clean, columns=['length'])\n",
        "\n",
        "plt.figure(figsize=(14, 6))\n",
        "\n",
        "plt.subplot(1, 2, 1)\n",
        "sns.kdeplot(text_length_df_initial['length'], fill=True)\n",
        "plt.title('Distribution de la Longueur des Textes - Initial (sans NaN)')\n",
        "plt.xlabel('Longueur de Texte')\n",
        "plt.ylabel('Densité des Textes')\n",
        "plt.xlim(0, 1600)\n",
        "plt.ylim(0, 0.009)\n",
        "\n",
        "\n",
        "plt.subplot(1, 2, 2)\n",
        "sns.kdeplot(text_length_df_clean['length'], fill=True)\n",
        "plt.title('Distribution de la Longueur des Textes - Nettoyé')\n",
        "plt.xlabel('Longueur des Texte')\n",
        "plt.ylabel('Densité des Textes')\n",
        "plt.xlim(0,1600)\n",
        "plt.ylim(0, 0.009)\n",
        "\n",
        "plt.tight_layout()\n",
        "plt.show()"
      ]
    },
    {
      "cell_type": "markdown",
      "metadata": {},
      "source": [
        "## On peut voir que la longueur maximale des texte a eté diminué. Il pourrai s'agir des espaces et des caractères spéciaux et stop words enlevés.\n",
        "## La distribution ressemble à une Khi-deux avec un faible degré de liberté. Mais cela n'est pas une information vraiment exploitable pour notre projet"
      ]
    },
    {
      "cell_type": "markdown",
      "metadata": {},
      "source": [
        "## Nous continuerons notre analyse dans le second preprocessing (autre fichier)"
      ]
    }
  ],
  "metadata": {
    "accelerator": "GPU",
    "colab": {
      "gpuType": "T4",
      "provenance": []
    },
    "kernelspec": {
      "display_name": "Python 3",
      "name": "python3"
    },
    "language_info": {
      "codemirror_mode": {
        "name": "ipython",
        "version": 3
      },
      "file_extension": ".py",
      "mimetype": "text/x-python",
      "name": "python",
      "nbconvert_exporter": "python",
      "pygments_lexer": "ipython3",
      "version": "3.11.4"
    }
  },
  "nbformat": 4,
  "nbformat_minor": 0
}
